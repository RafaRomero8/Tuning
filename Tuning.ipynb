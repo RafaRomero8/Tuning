{
 "cells": [
  {
   "cell_type": "markdown",
   "id": "52f482dd-5f2f-47ab-9e4a-47a6b4946ab6",
   "metadata": {},
   "source": [
    "About Dataset\n",
    "\n",
    "Context\n",
    "\n",
    "This dataset is originally from the National Institute of Diabetes and Digestive and Kidney Diseases. The objective is to predict based on diagnostic measurements whether a patient has diabetes. Several constraints were placed on the selection of these instances from a larger database. In particular, all patients here are females at least 21 years old of Pima Indian heritage.\n",
    "\n",
    "Pregnancies:Number of times pregnant\n",
    "\n",
    "Glucose: Plasma glucose concentration a 2 hours in an oral glucose tolerance test\n",
    "\n",
    "BloodPressure: Diastolic blood pressure (mm Hg)\n",
    "\n",
    "SkinThickness: Triceps skin fold thickness (mm)\n",
    "\n",
    "Insulin: 2-Hour serum insulin (mu U/ml)\n",
    "\n",
    "BMI: Body mass index (weight in kg/(height in m)^2)\n",
    "\n",
    "DiabetesPedigreeFunction: Diabetes pedigree function\n",
    "\n",
    "Age: Age (years)\n",
    "\n",
    "Outcome: Class variable (0 or 1"
   ]
  },
  {
   "cell_type": "markdown",
   "id": "85caae71-bd5c-49f2-a915-1cfdc5e25974",
   "metadata": {},
   "source": [
    "# Búsqueda en cuadrícula"
   ]
  },
  {
   "cell_type": "code",
   "execution_count": 1,
   "id": "04a61a61-3e72-4f06-99b1-ea241cff90fc",
   "metadata": {},
   "outputs": [],
   "source": [
    "import pandas as pd"
   ]
  },
  {
   "cell_type": "code",
   "execution_count": 2,
   "id": "e94bc2d6-a469-4a76-968b-22966db21ce1",
   "metadata": {},
   "outputs": [],
   "source": [
    "df = pd.read_csv('C:/Users/rafaR/Documents/DataS/proyectos/diabetes.csv')"
   ]
  },
  {
   "cell_type": "code",
   "execution_count": 3,
   "id": "b3b8ec30-782f-45df-b030-4c2766a97459",
   "metadata": {},
   "outputs": [
    {
     "data": {
      "text/html": [
       "<div>\n",
       "<style scoped>\n",
       "    .dataframe tbody tr th:only-of-type {\n",
       "        vertical-align: middle;\n",
       "    }\n",
       "\n",
       "    .dataframe tbody tr th {\n",
       "        vertical-align: top;\n",
       "    }\n",
       "\n",
       "    .dataframe thead th {\n",
       "        text-align: right;\n",
       "    }\n",
       "</style>\n",
       "<table border=\"1\" class=\"dataframe\">\n",
       "  <thead>\n",
       "    <tr style=\"text-align: right;\">\n",
       "      <th></th>\n",
       "      <th>Pregnancies</th>\n",
       "      <th>Glucose</th>\n",
       "      <th>BloodPressure</th>\n",
       "      <th>SkinThickness</th>\n",
       "      <th>Insulin</th>\n",
       "      <th>BMI</th>\n",
       "      <th>DiabetesPedigreeFunction</th>\n",
       "      <th>Age</th>\n",
       "      <th>Outcome</th>\n",
       "    </tr>\n",
       "  </thead>\n",
       "  <tbody>\n",
       "    <tr>\n",
       "      <th>0</th>\n",
       "      <td>6</td>\n",
       "      <td>148</td>\n",
       "      <td>72</td>\n",
       "      <td>35</td>\n",
       "      <td>0</td>\n",
       "      <td>33.6</td>\n",
       "      <td>0.627</td>\n",
       "      <td>50</td>\n",
       "      <td>1</td>\n",
       "    </tr>\n",
       "    <tr>\n",
       "      <th>1</th>\n",
       "      <td>1</td>\n",
       "      <td>85</td>\n",
       "      <td>66</td>\n",
       "      <td>29</td>\n",
       "      <td>0</td>\n",
       "      <td>26.6</td>\n",
       "      <td>0.351</td>\n",
       "      <td>31</td>\n",
       "      <td>0</td>\n",
       "    </tr>\n",
       "    <tr>\n",
       "      <th>2</th>\n",
       "      <td>8</td>\n",
       "      <td>183</td>\n",
       "      <td>64</td>\n",
       "      <td>0</td>\n",
       "      <td>0</td>\n",
       "      <td>23.3</td>\n",
       "      <td>0.672</td>\n",
       "      <td>32</td>\n",
       "      <td>1</td>\n",
       "    </tr>\n",
       "    <tr>\n",
       "      <th>3</th>\n",
       "      <td>1</td>\n",
       "      <td>89</td>\n",
       "      <td>66</td>\n",
       "      <td>23</td>\n",
       "      <td>94</td>\n",
       "      <td>28.1</td>\n",
       "      <td>0.167</td>\n",
       "      <td>21</td>\n",
       "      <td>0</td>\n",
       "    </tr>\n",
       "    <tr>\n",
       "      <th>4</th>\n",
       "      <td>0</td>\n",
       "      <td>137</td>\n",
       "      <td>40</td>\n",
       "      <td>35</td>\n",
       "      <td>168</td>\n",
       "      <td>43.1</td>\n",
       "      <td>2.288</td>\n",
       "      <td>33</td>\n",
       "      <td>1</td>\n",
       "    </tr>\n",
       "  </tbody>\n",
       "</table>\n",
       "</div>"
      ],
      "text/plain": [
       "   Pregnancies  Glucose  BloodPressure  SkinThickness  Insulin   BMI  \\\n",
       "0            6      148             72             35        0  33.6   \n",
       "1            1       85             66             29        0  26.6   \n",
       "2            8      183             64              0        0  23.3   \n",
       "3            1       89             66             23       94  28.1   \n",
       "4            0      137             40             35      168  43.1   \n",
       "\n",
       "   DiabetesPedigreeFunction  Age  Outcome  \n",
       "0                     0.627   50        1  \n",
       "1                     0.351   31        0  \n",
       "2                     0.672   32        1  \n",
       "3                     0.167   21        0  \n",
       "4                     2.288   33        1  "
      ]
     },
     "execution_count": 3,
     "metadata": {},
     "output_type": "execute_result"
    }
   ],
   "source": [
    "df.head()"
   ]
  },
  {
   "cell_type": "code",
   "execution_count": 4,
   "id": "50ca6e01-b39f-464a-983c-1c169e74d5d3",
   "metadata": {},
   "outputs": [
    {
     "data": {
      "text/plain": [
       "(768, 9)"
      ]
     },
     "execution_count": 4,
     "metadata": {},
     "output_type": "execute_result"
    }
   ],
   "source": [
    "df.shape"
   ]
  },
  {
   "cell_type": "markdown",
   "id": "694e3265-a5b9-4e6d-a76b-33e3cd7e4317",
   "metadata": {},
   "source": [
    "Importamos las librerias de sklearn\n"
   ]
  },
  {
   "cell_type": "code",
   "execution_count": 5,
   "id": "6de29bcb-1ebf-47bd-bc57-f388a0e43228",
   "metadata": {},
   "outputs": [],
   "source": [
    "from sklearn.model_selection import GridSearchCV#permite crear la rejilla(grid) de busqueda con todas ls combinianciones posibles de los hiperparamtros\n",
    "from sklearn.neighbors import KNeighborsClassifier#nuestro modelo\n",
    "from sklearn.pipeline import Pipeline#nos ayuda al preprocesamiento, selección de características, entrenamiento y evaluación\n",
    "from sklearn.preprocessing import MinMaxScaler\n",
    "from sklearn.model_selection import train_test_split"
   ]
  },
  {
   "cell_type": "markdown",
   "id": "73eb94c4-066e-45f5-a64a-4be56a0550e2",
   "metadata": {},
   "source": [
    "Dividimos el conjunto de datos en características (X) y etiquetas (y):"
   ]
  },
  {
   "cell_type": "code",
   "execution_count": 6,
   "id": "bd677949-cc78-4833-a68e-79ef908ed635",
   "metadata": {},
   "outputs": [
    {
     "data": {
      "text/html": [
       "<div>\n",
       "<style scoped>\n",
       "    .dataframe tbody tr th:only-of-type {\n",
       "        vertical-align: middle;\n",
       "    }\n",
       "\n",
       "    .dataframe tbody tr th {\n",
       "        vertical-align: top;\n",
       "    }\n",
       "\n",
       "    .dataframe thead th {\n",
       "        text-align: right;\n",
       "    }\n",
       "</style>\n",
       "<table border=\"1\" class=\"dataframe\">\n",
       "  <thead>\n",
       "    <tr style=\"text-align: right;\">\n",
       "      <th></th>\n",
       "      <th>Pregnancies</th>\n",
       "      <th>Glucose</th>\n",
       "      <th>BloodPressure</th>\n",
       "      <th>SkinThickness</th>\n",
       "      <th>Insulin</th>\n",
       "      <th>BMI</th>\n",
       "      <th>DiabetesPedigreeFunction</th>\n",
       "      <th>Age</th>\n",
       "    </tr>\n",
       "  </thead>\n",
       "  <tbody>\n",
       "    <tr>\n",
       "      <th>0</th>\n",
       "      <td>6</td>\n",
       "      <td>148</td>\n",
       "      <td>72</td>\n",
       "      <td>35</td>\n",
       "      <td>0</td>\n",
       "      <td>33.6</td>\n",
       "      <td>0.627</td>\n",
       "      <td>50</td>\n",
       "    </tr>\n",
       "    <tr>\n",
       "      <th>1</th>\n",
       "      <td>1</td>\n",
       "      <td>85</td>\n",
       "      <td>66</td>\n",
       "      <td>29</td>\n",
       "      <td>0</td>\n",
       "      <td>26.6</td>\n",
       "      <td>0.351</td>\n",
       "      <td>31</td>\n",
       "    </tr>\n",
       "    <tr>\n",
       "      <th>2</th>\n",
       "      <td>8</td>\n",
       "      <td>183</td>\n",
       "      <td>64</td>\n",
       "      <td>0</td>\n",
       "      <td>0</td>\n",
       "      <td>23.3</td>\n",
       "      <td>0.672</td>\n",
       "      <td>32</td>\n",
       "    </tr>\n",
       "    <tr>\n",
       "      <th>3</th>\n",
       "      <td>1</td>\n",
       "      <td>89</td>\n",
       "      <td>66</td>\n",
       "      <td>23</td>\n",
       "      <td>94</td>\n",
       "      <td>28.1</td>\n",
       "      <td>0.167</td>\n",
       "      <td>21</td>\n",
       "    </tr>\n",
       "    <tr>\n",
       "      <th>4</th>\n",
       "      <td>0</td>\n",
       "      <td>137</td>\n",
       "      <td>40</td>\n",
       "      <td>35</td>\n",
       "      <td>168</td>\n",
       "      <td>43.1</td>\n",
       "      <td>2.288</td>\n",
       "      <td>33</td>\n",
       "    </tr>\n",
       "  </tbody>\n",
       "</table>\n",
       "</div>"
      ],
      "text/plain": [
       "   Pregnancies  Glucose  BloodPressure  SkinThickness  Insulin   BMI  \\\n",
       "0            6      148             72             35        0  33.6   \n",
       "1            1       85             66             29        0  26.6   \n",
       "2            8      183             64              0        0  23.3   \n",
       "3            1       89             66             23       94  28.1   \n",
       "4            0      137             40             35      168  43.1   \n",
       "\n",
       "   DiabetesPedigreeFunction  Age  \n",
       "0                     0.627   50  \n",
       "1                     0.351   31  \n",
       "2                     0.672   32  \n",
       "3                     0.167   21  \n",
       "4                     2.288   33  "
      ]
     },
     "execution_count": 6,
     "metadata": {},
     "output_type": "execute_result"
    }
   ],
   "source": [
    "X = df.drop(columns=[\"Outcome\"])\n",
    "X.head()"
   ]
  },
  {
   "cell_type": "code",
   "execution_count": 7,
   "id": "4abaaece-8518-4ef7-84f7-41316149d62c",
   "metadata": {},
   "outputs": [],
   "source": [
    "#y = df[[\"Outcome\"]]\n",
    "#y.head()"
   ]
  },
  {
   "cell_type": "code",
   "execution_count": 8,
   "id": "5a985956-f023-444c-903d-69796c22a7ee",
   "metadata": {},
   "outputs": [
    {
     "data": {
      "text/plain": [
       "0    1\n",
       "1    0\n",
       "2    1\n",
       "3    0\n",
       "4    1\n",
       "Name: Outcome, dtype: int64"
      ]
     },
     "execution_count": 8,
     "metadata": {},
     "output_type": "execute_result"
    }
   ],
   "source": [
    "y = df[\"Outcome\"]\n",
    "y.head()"
   ]
  },
  {
   "cell_type": "code",
   "execution_count": 9,
   "id": "538c8dbd-672e-4405-9508-c36aec4ea93a",
   "metadata": {},
   "outputs": [
    {
     "data": {
      "text/html": [
       "<div>\n",
       "<style scoped>\n",
       "    .dataframe tbody tr th:only-of-type {\n",
       "        vertical-align: middle;\n",
       "    }\n",
       "\n",
       "    .dataframe tbody tr th {\n",
       "        vertical-align: top;\n",
       "    }\n",
       "\n",
       "    .dataframe thead th {\n",
       "        text-align: right;\n",
       "    }\n",
       "</style>\n",
       "<table border=\"1\" class=\"dataframe\">\n",
       "  <thead>\n",
       "    <tr style=\"text-align: right;\">\n",
       "      <th></th>\n",
       "      <th>Pregnancies</th>\n",
       "      <th>Glucose</th>\n",
       "      <th>BloodPressure</th>\n",
       "      <th>SkinThickness</th>\n",
       "      <th>Insulin</th>\n",
       "      <th>BMI</th>\n",
       "      <th>DiabetesPedigreeFunction</th>\n",
       "      <th>Age</th>\n",
       "    </tr>\n",
       "  </thead>\n",
       "  <tbody>\n",
       "    <tr>\n",
       "      <th>462</th>\n",
       "      <td>8</td>\n",
       "      <td>74</td>\n",
       "      <td>70</td>\n",
       "      <td>40</td>\n",
       "      <td>49</td>\n",
       "      <td>35.3</td>\n",
       "      <td>0.705</td>\n",
       "      <td>39</td>\n",
       "    </tr>\n",
       "    <tr>\n",
       "      <th>538</th>\n",
       "      <td>0</td>\n",
       "      <td>127</td>\n",
       "      <td>80</td>\n",
       "      <td>37</td>\n",
       "      <td>210</td>\n",
       "      <td>36.3</td>\n",
       "      <td>0.804</td>\n",
       "      <td>23</td>\n",
       "    </tr>\n",
       "    <tr>\n",
       "      <th>285</th>\n",
       "      <td>7</td>\n",
       "      <td>136</td>\n",
       "      <td>74</td>\n",
       "      <td>26</td>\n",
       "      <td>135</td>\n",
       "      <td>26.0</td>\n",
       "      <td>0.647</td>\n",
       "      <td>51</td>\n",
       "    </tr>\n",
       "    <tr>\n",
       "      <th>688</th>\n",
       "      <td>1</td>\n",
       "      <td>140</td>\n",
       "      <td>74</td>\n",
       "      <td>26</td>\n",
       "      <td>180</td>\n",
       "      <td>24.1</td>\n",
       "      <td>0.828</td>\n",
       "      <td>23</td>\n",
       "    </tr>\n",
       "    <tr>\n",
       "      <th>163</th>\n",
       "      <td>2</td>\n",
       "      <td>100</td>\n",
       "      <td>64</td>\n",
       "      <td>23</td>\n",
       "      <td>0</td>\n",
       "      <td>29.7</td>\n",
       "      <td>0.368</td>\n",
       "      <td>21</td>\n",
       "    </tr>\n",
       "  </tbody>\n",
       "</table>\n",
       "</div>"
      ],
      "text/plain": [
       "     Pregnancies  Glucose  BloodPressure  SkinThickness  Insulin   BMI  \\\n",
       "462            8       74             70             40       49  35.3   \n",
       "538            0      127             80             37      210  36.3   \n",
       "285            7      136             74             26      135  26.0   \n",
       "688            1      140             74             26      180  24.1   \n",
       "163            2      100             64             23        0  29.7   \n",
       "\n",
       "     DiabetesPedigreeFunction  Age  \n",
       "462                     0.705   39  \n",
       "538                     0.804   23  \n",
       "285                     0.647   51  \n",
       "688                     0.828   23  \n",
       "163                     0.368   21  "
      ]
     },
     "execution_count": 9,
     "metadata": {},
     "output_type": "execute_result"
    }
   ],
   "source": [
    "X_train, X_test, y_train, y_test = train_test_split(X, y, test_size = 0.25,stratify = y, random_state = 89)\n",
    "X_test.head()\n",
    "#inicializar una variable con minuscula cuando es un vector\n",
    "#stratify = y deveulve la misma proporción ,deveuleve la misma cantidad de personas que tienen diabetes o no\n",
    "#tanto para los datos de entrenamiento como de prueba"
   ]
  },
  {
   "cell_type": "markdown",
   "id": "f5d57c6a-5c78-4244-ac44-9ea40e082e1b",
   "metadata": {},
   "source": [
    "#1°\n",
    " Creamos un pipeline que escale los datos y aplique el algoritmo KNN\n",
    "\n",
    "#2°\n",
    " Establecemos los hiperparámetros a buscar en la búsqueda en rejilla\n",
    " \n",
    "#3°\n",
    " Creamos un objeto de búsqueda en rejilla utilizando el pipeline y los hiperparámetros:\n",
    " es decirle que busque el mejor prametro con un accuracy(scoring='accuracy' --> nos indica si esta bien o\n",
    " esta mal el modelo)\n",
    " y lo repita 5 veces(cv=5)\n",
    " "
   ]
  },
  {
   "cell_type": "code",
   "execution_count": 10,
   "id": "2c459456-2556-4543-9f0e-43e6194c9aad",
   "metadata": {},
   "outputs": [],
   "source": [
    "#1°\n",
    "knn_pipe = Pipeline([('mms',MinMaxScaler()),#en este caso escalar los datos\n",
    "                     ('knn',KNeighborsClassifier())])#indicar el algoritmo a utilizar KNN\n",
    "\n",
    "#2°\n",
    "params = [{'knn__n_neighbors': [3, 5, 7, 9],#creamos como un areglo para indicar que pruebe con estos parametros(toma 3 elementos a su alrededor 5 elementos a su alrededor etc.)\n",
    "           'knn__weights': ['uniform', 'distance'],#de este parametro queremos que pruebe de la lista ['uniform', 'distance'(entre los elementos)] \n",
    "           'knn__leaf_size': [15, 20]}]#hace referencia a la geometria y/o la dimensionalidad\n",
    "\n",
    "#3°\n",
    "gs_knn = GridSearchCV(knn_pipe,\n",
    "                      param_grid=params,\n",
    "                      scoring='accuracy',\n",
    "                      cv=5)"
   ]
  },
  {
   "cell_type": "code",
   "execution_count": 11,
   "id": "087b258b-b821-4c30-adfe-839b8bf26407",
   "metadata": {},
   "outputs": [
    {
     "data": {
      "text/plain": [
       "((576, 8), (576,))"
      ]
     },
     "execution_count": 11,
     "metadata": {},
     "output_type": "execute_result"
    }
   ],
   "source": [
    "X_train.shape,y_train.shape"
   ]
  },
  {
   "cell_type": "code",
   "execution_count": 12,
   "id": "e30e6676-9faf-476c-9def-de923c391e45",
   "metadata": {},
   "outputs": [
    {
     "data": {
      "text/plain": [
       "{'knn__leaf_size': 15, 'knn__n_neighbors': 9, 'knn__weights': 'uniform'}"
      ]
     },
     "execution_count": 12,
     "metadata": {},
     "output_type": "execute_result"
    }
   ],
   "source": [
    "# Entrenamos la búsqueda en rejilla para el conjunto de entrenamiento:\n",
    "gs_knn.fit(X_train, y_train)\n",
    "# Imprimimos los mejores hiperparámetros encontrados:\n",
    "gs_knn.best_params_ #regresa los mejores parametros"
   ]
  },
  {
   "cell_type": "code",
   "execution_count": 13,
   "id": "b4b22ff4-7457-4144-ad70-79e001d0c610",
   "metadata": {},
   "outputs": [
    {
     "data": {
      "text/plain": [
       "0.7934027777777778"
      ]
     },
     "execution_count": 13,
     "metadata": {},
     "output_type": "execute_result"
    }
   ],
   "source": [
    "# Generamos el score de los hiperparámetros encontrados:\n",
    "gs_knn.score(X_train, y_train)\n",
    "#vemos que dió un score un poco bajo ,podemos pensar que no hay sobreajuste pero que tampoco es un buen modelo"
   ]
  },
  {
   "cell_type": "code",
   "execution_count": 14,
   "id": "e438bc1c-bb13-4950-b872-1ad4a8db554e",
   "metadata": {},
   "outputs": [
    {
     "data": {
      "text/plain": [
       "Pipeline(steps=[('mms', MinMaxScaler()),\n",
       "                ('knn', KNeighborsClassifier(leaf_size=15, n_neighbors=9))])"
      ]
     },
     "execution_count": 14,
     "metadata": {},
     "output_type": "execute_result"
    }
   ],
   "source": [
    "# Ahora mostramos el mejor estimador:\n",
    "gs_knn.best_estimator_"
   ]
  },
  {
   "cell_type": "markdown",
   "id": "ed31c77d-3998-4064-b46c-b2ce9d86f653",
   "metadata": {},
   "source": [
    "Ahora tomamos ese modelo de cuadrícula y creamos algunas predicciones usando el conjunto de prueba, así como para crear informes de clasificación y matrices de confusión."
   ]
  },
  {
   "cell_type": "code",
   "execution_count": 15,
   "id": "80263459-9d4f-49dd-979d-80ade7a94826",
   "metadata": {},
   "outputs": [],
   "source": [
    "from sklearn.metrics import classification_report, confusion_matrix\n",
    "import matplotlib.pyplot as plt\n",
    "import seaborn as sn"
   ]
  },
  {
   "cell_type": "code",
   "execution_count": 16,
   "id": "ad4857da-14e6-4291-9384-ed0f1a491b43",
   "metadata": {},
   "outputs": [
    {
     "name": "stdout",
     "output_type": "stream",
     "text": [
      "[[103  22]\n",
      " [ 31  36]]\n"
     ]
    }
   ],
   "source": [
    "# Generamos la matriz de confusión:\n",
    "grid_predictions = gs_knn.predict(X_test)\n",
    "matriz = confusion_matrix(y_test, grid_predictions)\n",
    "\n",
    "print(matriz)#nos dice nuestras valores reales vs valores predichas"
   ]
  },
  {
   "cell_type": "code",
   "execution_count": 19,
   "id": "5870326a-243b-41fe-8721-28bd59a0a0da",
   "metadata": {},
   "outputs": [
    {
     "data": {
      "text/plain": [
       "<AxesSubplot:>"
      ]
     },
     "execution_count": 19,
     "metadata": {},
     "output_type": "execute_result"
    },
    {
     "data": {
      "image/png": "[encoded data removed]",
      "text/plain": [
       "<Figure size 720x504 with 2 Axes>"
      ]
     },
     "metadata": {
      "needs_background": "light"
     },
     "output_type": "display_data"
    }
   ],
   "source": [
    "# Imprimimos la gráfica con la matriz de confusión:\n",
    "#presentarlo graficamente\n",
    "plt.figure(figsize = (10,7))\n",
    "sn.heatmap(matriz, annot=True)\n",
    "#podemos ver que el score de falsos negativos y falsos positivos son muy altos"
   ]
  },
  {
   "cell_type": "code",
   "execution_count": 24,
   "id": "144bca97-6628-4c59-a7b5-ea1584c9df00",
   "metadata": {},
   "outputs": [
    {
     "name": "stdout",
     "output_type": "stream",
     "text": [
      "              precision    recall  f1-score   support\n",
      "\n",
      "           0       0.77      0.82      0.80       125\n",
      "           1       0.62      0.54      0.58        67\n",
      "\n",
      "    accuracy                           0.72       192\n",
      "   macro avg       0.69      0.68      0.69       192\n",
      "weighted avg       0.72      0.72      0.72       192\n",
      "\n"
     ]
    }
   ],
   "source": [
    "# Reporte de clasificación:\n",
    "print(classification_report(y_test, grid_predictions))\n",
    "#en general se obtuvo un performance muy bajo para este modelo"
   ]
  },
  {
   "cell_type": "markdown",
   "id": "22a94ba1-744d-4ecd-8722-7232734335b0",
   "metadata": {},
   "source": [
    " Pros y contras\n",
    "\n",
    "La búsqueda aleatoria es computacionalmente más barata.Sin embargo, no garantiza encontrar la mejor puntuación del espacio muestral."
   ]
  },
  {
   "cell_type": "markdown",
   "id": "5c050626-6a9b-47ed-ab6b-6f5e9aafeda4",
   "metadata": {},
   "source": [
    "# Búsqueda aleatoria\n",
    "La selección de los valores de los hiperparámetros es completamente aleatoria,mientras la búsqueda de cuadrícula prueba todas las combinaciones de hiperparámetros"
   ]
  },
  {
   "cell_type": "code",
   "execution_count": 26,
   "id": "c8462526-b7a3-442d-afa2-1e4ada3a458f",
   "metadata": {},
   "outputs": [],
   "source": [
    "import scipy.stats as stats\n",
    "from sklearn.utils.fixes import loguniform\n",
    "\n",
    "param_dist = {\n",
    "    'C': stats.uniform(0.1,1e4), #Distribución uniforme entre 0.1 y 1e4\n",
    "    'gamma': loguniform(1e-6,1e+1), # Distribución loguniform entre 1e-6 y 1e+1 \n",
    "}\n",
    "\n",
    "#C(es un alpha) indica penalizar las operaciones que realiza la regresión\n",
    "#hará ua busqueda del punto 0.1 al punto 1e4,traé de manera aleatoria una seleccion de datos\n",
    "#y selecciona de manera uniforme los datos para buscar  el parametro"
   ]
  },
  {
   "cell_type": "markdown",
   "id": "d4ff8ede-cb53-4807-80a1-367f191661a8",
   "metadata": {},
   "source": [
    "A continuación, vamos a crear un objeto RandomizedSearchCV con argumento n_iter_searchy para ajustarlo a los datos de entrenamiento."
   ]
  },
  {
   "cell_type": "code",
   "execution_count": 27,
   "id": "e4488335-9d00-4c08-ae7f-5dba30974176",
   "metadata": {},
   "outputs": [
    {
     "name": "stdout",
     "output_type": "stream",
     "text": [
      "Fitting 5 folds for each of 20 candidates, totalling 100 fits\n",
      "[CV 1/5] END C=7673.991834913542, gamma=5.5537039179554765e-06;, score=0.672 total time=   0.1s\n",
      "[CV 2/5] END C=7673.991834913542, gamma=5.5537039179554765e-06;, score=0.757 total time=   0.0s\n",
      "[CV 3/5] END C=7673.991834913542, gamma=5.5537039179554765e-06;, score=0.730 total time=   0.0s\n",
      "[CV 4/5] END C=7673.991834913542, gamma=5.5537039179554765e-06;, score=0.835 total time=   0.0s\n",
      "[CV 5/5] END C=7673.991834913542, gamma=5.5537039179554765e-06;, score=0.800 total time=   0.0s\n",
      "[CV 1/5] END C=8867.49431390672, gamma=0.6830613768522065;, score=0.647 total time=   0.0s\n",
      "[CV 2/5] END C=8867.49431390672, gamma=0.6830613768522065;, score=0.652 total time=   0.0s\n",
      "[CV 3/5] END C=8867.49431390672, gamma=0.6830613768522065;, score=0.652 total time=   0.0s\n",
      "[CV 4/5] END C=8867.49431390672, gamma=0.6830613768522065;, score=0.652 total time=   0.0s\n",
      "[CV 5/5] END C=8867.49431390672, gamma=0.6830613768522065;, score=0.652 total time=   0.0s\n",
      "[CV 1/5] END C=6432.850113421599, gamma=1.2165896670577986e-06;, score=0.698 total time=   0.0s\n",
      "[CV 2/5] END C=6432.850113421599, gamma=1.2165896670577986e-06;, score=0.757 total time=   0.0s\n",
      "[CV 3/5] END C=6432.850113421599, gamma=1.2165896670577986e-06;, score=0.774 total time=   0.0s\n",
      "[CV 4/5] END C=6432.850113421599, gamma=1.2165896670577986e-06;, score=0.826 total time=   0.0s\n",
      "[CV 5/5] END C=6432.850113421599, gamma=1.2165896670577986e-06;, score=0.783 total time=   0.0s\n",
      "[CV 1/5] END C=978.166181671311, gamma=1.8976162609896491e-06;, score=0.716 total time=   0.0s\n",
      "[CV 2/5] END C=978.166181671311, gamma=1.8976162609896491e-06;, score=0.757 total time=   0.0s\n",
      "[CV 3/5] END C=978.166181671311, gamma=1.8976162609896491e-06;, score=0.774 total time=   0.0s\n",
      "[CV 4/5] END C=978.166181671311, gamma=1.8976162609896491e-06;, score=0.817 total time=   0.0s\n",
      "[CV 5/5] END C=978.166181671311, gamma=1.8976162609896491e-06;, score=0.791 total time=   0.0s\n",
      "[CV 1/5] END C=25.3418761145079, gamma=0.005762131938439299;, score=0.612 total time=   0.0s\n",
      "[CV 2/5] END C=25.3418761145079, gamma=0.005762131938439299;, score=0.617 total time=   0.0s\n",
      "[CV 3/5] END C=25.3418761145079, gamma=0.005762131938439299;, score=0.661 total time=   0.0s\n",
      "[CV 4/5] END C=25.3418761145079, gamma=0.005762131938439299;, score=0.730 total time=   0.0s\n",
      "[CV 5/5] END C=25.3418761145079, gamma=0.005762131938439299;, score=0.661 total time=   0.0s\n",
      "[CV 1/5] END C=981.6614073656309, gamma=0.00025465199592240655;, score=0.638 total time=   0.0s\n",
      "[CV 2/5] END C=981.6614073656309, gamma=0.00025465199592240655;, score=0.678 total time=   0.0s\n",
      "[CV 3/5] END C=981.6614073656309, gamma=0.00025465199592240655;, score=0.670 total time=   0.0s\n",
      "[CV 4/5] END C=981.6614073656309, gamma=0.00025465199592240655;, score=0.687 total time=   0.0s\n",
      "[CV 5/5] END C=981.6614073656309, gamma=0.00025465199592240655;, score=0.722 total time=   0.0s\n",
      "[CV 1/5] END C=4893.071653245924, gamma=8.688275224794928;, score=0.647 total time=   0.0s\n",
      "[CV 2/5] END C=4893.071653245924, gamma=8.688275224794928;, score=0.652 total time=   0.0s\n",
      "[CV 3/5] END C=4893.071653245924, gamma=8.688275224794928;, score=0.652 total time=   0.0s\n",
      "[CV 4/5] END C=4893.071653245924, gamma=8.688275224794928;, score=0.652 total time=   0.0s\n",
      "[CV 5/5] END C=4893.071653245924, gamma=8.688275224794928;, score=0.652 total time=   0.0s\n",
      "[CV 1/5] END C=4038.2825465372543, gamma=0.21842469897168879;, score=0.647 total time=   0.0s\n",
      "[CV 2/5] END C=4038.2825465372543, gamma=0.21842469897168879;, score=0.652 total time=   0.0s\n",
      "[CV 3/5] END C=4038.2825465372543, gamma=0.21842469897168879;, score=0.652 total time=   0.0s\n",
      "[CV 4/5] END C=4038.2825465372543, gamma=0.21842469897168879;, score=0.652 total time=   0.0s\n",
      "[CV 5/5] END C=4038.2825465372543, gamma=0.21842469897168879;, score=0.652 total time=   0.0s\n",
      "[CV 1/5] END C=2739.7497117111684, gamma=1.1477560149068813;, score=0.647 total time=   0.0s\n",
      "[CV 2/5] END C=2739.7497117111684, gamma=1.1477560149068813;, score=0.652 total time=   0.0s\n",
      "[CV 3/5] END C=2739.7497117111684, gamma=1.1477560149068813;, score=0.652 total time=   0.0s\n",
      "[CV 4/5] END C=2739.7497117111684, gamma=1.1477560149068813;, score=0.652 total time=   0.0s\n",
      "[CV 5/5] END C=2739.7497117111684, gamma=1.1477560149068813;, score=0.652 total time=   0.0s\n",
      "[CV 1/5] END C=6636.211342066758, gamma=7.452484697959594e-05;, score=0.690 total time=   0.3s\n",
      "[CV 2/5] END C=6636.211342066758, gamma=7.452484697959594e-05;, score=0.670 total time=   0.3s\n",
      "[CV 3/5] END C=6636.211342066758, gamma=7.452484697959594e-05;, score=0.713 total time=   0.7s\n",
      "[CV 4/5] END C=6636.211342066758, gamma=7.452484697959594e-05;, score=0.757 total time=   0.3s\n",
      "[CV 5/5] END C=6636.211342066758, gamma=7.452484697959594e-05;, score=0.817 total time=   0.5s\n",
      "[CV 1/5] END C=1290.5601197553278, gamma=6.150859976859991e-06;, score=0.690 total time=   0.0s\n",
      "[CV 2/5] END C=1290.5601197553278, gamma=6.150859976859991e-06;, score=0.765 total time=   0.0s\n",
      "[CV 3/5] END C=1290.5601197553278, gamma=6.150859976859991e-06;, score=0.774 total time=   0.0s\n",
      "[CV 4/5] END C=1290.5601197553278, gamma=6.150859976859991e-06;, score=0.826 total time=   0.0s\n",
      "[CV 5/5] END C=1290.5601197553278, gamma=6.150859976859991e-06;, score=0.809 total time=   0.0s\n",
      "[CV 1/5] END C=9620.579314623186, gamma=0.04823364065070675;, score=0.638 total time=   0.0s\n",
      "[CV 2/5] END C=9620.579314623186, gamma=0.04823364065070675;, score=0.661 total time=   0.0s\n",
      "[CV 3/5] END C=9620.579314623186, gamma=0.04823364065070675;, score=0.643 total time=   0.0s\n",
      "[CV 4/5] END C=9620.579314623186, gamma=0.04823364065070675;, score=0.652 total time=   0.0s\n",
      "[CV 5/5] END C=9620.579314623186, gamma=0.04823364065070675;, score=0.661 total time=   0.0s\n",
      "[CV 1/5] END C=9492.82634484952, gamma=9.519439360589562;, score=0.647 total time=   0.0s\n",
      "[CV 2/5] END C=9492.82634484952, gamma=9.519439360589562;, score=0.652 total time=   0.0s\n",
      "[CV 3/5] END C=9492.82634484952, gamma=9.519439360589562;, score=0.652 total time=   0.0s\n",
      "[CV 4/5] END C=9492.82634484952, gamma=9.519439360589562;, score=0.652 total time=   0.0s\n",
      "[CV 5/5] END C=9492.82634484952, gamma=9.519439360589562;, score=0.652 total time=   0.0s\n",
      "[CV 1/5] END C=6191.730869124572, gamma=0.0003737011837265679;, score=0.569 total time=   0.0s\n",
      "[CV 2/5] END C=6191.730869124572, gamma=0.0003737011837265679;, score=0.661 total time=   0.1s\n",
      "[CV 3/5] END C=6191.730869124572, gamma=0.0003737011837265679;, score=0.704 total time=   0.2s\n",
      "[CV 4/5] END C=6191.730869124572, gamma=0.0003737011837265679;, score=0.643 total time=   0.2s\n",
      "[CV 5/5] END C=6191.730869124572, gamma=0.0003737011837265679;, score=0.713 total time=   0.1s\n",
      "[CV 1/5] END C=3615.682524894383, gamma=0.00013291408328323164;, score=0.629 total time=   0.1s\n",
      "[CV 2/5] END C=3615.682524894383, gamma=0.00013291408328323164;, score=0.687 total time=   0.1s\n",
      "[CV 3/5] END C=3615.682524894383, gamma=0.00013291408328323164;, score=0.678 total time=   0.2s\n",
      "[CV 4/5] END C=3615.682524894383, gamma=0.00013291408328323164;, score=0.730 total time=   0.2s\n",
      "[CV 5/5] END C=3615.682524894383, gamma=0.00013291408328323164;, score=0.757 total time=   0.1s\n",
      "[CV 1/5] END C=5378.207737889172, gamma=0.00041726333549957324;, score=0.578 total time=   0.0s\n",
      "[CV 2/5] END C=5378.207737889172, gamma=0.00041726333549957324;, score=0.652 total time=   0.0s\n",
      "[CV 3/5] END C=5378.207737889172, gamma=0.00041726333549957324;, score=0.696 total time=   0.1s\n",
      "[CV 4/5] END C=5378.207737889172, gamma=0.00041726333549957324;, score=0.635 total time=   0.1s\n",
      "[CV 5/5] END C=5378.207737889172, gamma=0.00041726333549957324;, score=0.713 total time=   0.0s\n",
      "[CV 1/5] END C=2268.888449151796, gamma=0.00853366336617365;, score=0.629 total time=   0.0s\n",
      "[CV 2/5] END C=2268.888449151796, gamma=0.00853366336617365;, score=0.609 total time=   0.0s\n",
      "[CV 3/5] END C=2268.888449151796, gamma=0.00853366336617365;, score=0.661 total time=   0.0s\n",
      "[CV 4/5] END C=2268.888449151796, gamma=0.00853366336617365;, score=0.687 total time=   0.0s\n",
      "[CV 5/5] END C=2268.888449151796, gamma=0.00853366336617365;, score=0.678 total time=   0.0s\n",
      "[CV 1/5] END C=2801.3014933230443, gamma=0.0449617248157857;, score=0.638 total time=   0.0s\n",
      "[CV 2/5] END C=2801.3014933230443, gamma=0.0449617248157857;, score=0.661 total time=   0.0s\n",
      "[CV 3/5] END C=2801.3014933230443, gamma=0.0449617248157857;, score=0.643 total time=   0.0s\n",
      "[CV 4/5] END C=2801.3014933230443, gamma=0.0449617248157857;, score=0.652 total time=   0.0s\n",
      "[CV 5/5] END C=2801.3014933230443, gamma=0.0449617248157857;, score=0.661 total time=   0.0s\n",
      "[CV 1/5] END C=5714.036511178678, gamma=1.5931742731537371e-06;, score=0.655 total time=   0.0s\n",
      "[CV 2/5] END C=5714.036511178678, gamma=1.5931742731537371e-06;, score=0.748 total time=   0.0s\n",
      "[CV 3/5] END C=5714.036511178678, gamma=1.5931742731537371e-06;, score=0.783 total time=   0.0s\n",
      "[CV 4/5] END C=5714.036511178678, gamma=1.5931742731537371e-06;, score=0.843 total time=   0.0s\n",
      "[CV 5/5] END C=5714.036511178678, gamma=1.5931742731537371e-06;, score=0.783 total time=   0.0s\n",
      "[CV 1/5] END C=4659.266406624087, gamma=2.7891863705505335e-06;, score=0.681 total time=   0.0s\n",
      "[CV 2/5] END C=4659.266406624087, gamma=2.7891863705505335e-06;, score=0.748 total time=   0.0s\n",
      "[CV 3/5] END C=4659.266406624087, gamma=2.7891863705505335e-06;, score=0.783 total time=   0.0s\n",
      "[CV 4/5] END C=4659.266406624087, gamma=2.7891863705505335e-06;, score=0.826 total time=   0.0s\n",
      "[CV 5/5] END C=4659.266406624087, gamma=2.7891863705505335e-06;, score=0.809 total time=   0.0s\n"
     ]
    },
    {
     "data": {
      "text/plain": [
       "RandomizedSearchCV(estimator=SVC(), n_iter=20,\n",
       "                   param_distributions={'C': <scipy.stats._distn_infrastructure.rv_frozen object at 0x0000020B5F1F2D30>,\n",
       "                                        'gamma': <scipy.stats._distn_infrastructure.rv_frozen object at 0x0000020B604D0A90>},\n",
       "                   verbose=3)"
      ]
     },
     "execution_count": 27,
     "metadata": {},
     "output_type": "execute_result"
    }
   ],
   "source": [
    "from sklearn.svm import SVC\n",
    "from sklearn.model_selection import RandomizedSearchCV\n",
    "\n",
    "# Realizamos una búsqueda aleatoria de los parámetros óptimos para entrenar un modelo de SVM:\n",
    "n_iter_search = 20\n",
    "\n",
    "random_search = RandomizedSearchCV(\n",
    "    SVC(),#mandamos a llamar el modelo SVM\n",
    "    param_distributions= param_dist,## Distribución de parámetros a evaluar\n",
    "    n_iter = n_iter_search,# Número de iteraciones de búsqueda\n",
    "    refit = True,# Ajustar el modelo a los datos de entrenamiento una vez encontrados los mejores parámetros\n",
    "    verbose = 3 #Nivel de detalle durante el proceso de ajuste del modelo\n",
    ")\n",
    "\n",
    "# Entrenamos el modelo a los datos de entrenamiento:\n",
    "random_search.fit(X_train,y_train)"
   ]
  },
  {
   "cell_type": "code",
   "execution_count": 28,
   "id": "cffe8f8c-22de-48c0-8c99-6821f858c6b8",
   "metadata": {},
   "outputs": [
    {
     "name": "stdout",
     "output_type": "stream",
     "text": [
      "{'C': 1290.5601197553278, 'gamma': 6.150859976859991e-06}\n"
     ]
    }
   ],
   "source": [
    "# Imprimimos los mejores parámetros encontrados por la búsqueda aleatoria:\n",
    "print(random_search.best_params_)"
   ]
  },
  {
   "cell_type": "code",
   "execution_count": 29,
   "id": "ac6ac346-8f23-40fa-9e16-8b8a7c25f94c",
   "metadata": {},
   "outputs": [
    {
     "name": "stdout",
     "output_type": "stream",
     "text": [
      "SVC(C=1290.5601197553278, gamma=6.150859976859991e-06)\n"
     ]
    }
   ],
   "source": [
    "# Imprimimos el mejor estimador encontrado por la búsqueda aleatoria:\n",
    "print(random_search.best_estimator_)"
   ]
  },
  {
   "cell_type": "markdown",
   "id": "9f34affa-187b-424c-8ce4-151163d5d082",
   "metadata": {},
   "source": [
    "Finalmente, tomamos ese modelo de búsqueda aleatoria y creamos algunas predicciones utilizando el conjunto de prueba y creamos informes de clasificación y matrices de confusión"
   ]
  },
  {
   "cell_type": "code",
   "execution_count": 32,
   "id": "ab8cf2cc-4c69-443f-b8bd-4dc1ccf802d3",
   "metadata": {},
   "outputs": [],
   "source": [
    "# Ejecutamos una predicción usando el mejor estimador:\n",
    "random_predictions = random_search.predict(X_test)"
   ]
  },
  {
   "cell_type": "code",
   "execution_count": null,
   "id": "08293c03-6dcd-4bc4-ad2c-587b2129611d",
   "metadata": {},
   "outputs": [
    {
     "name": "stdout",
     "output_type": "stream",
     "text": [
      "[[111  14]\n",
      " [ 34  33]]\n"
     ]
    }
   ],
   "source": [
    "matriz = confusion_matrix(y_test,random_predictions)\n",
    "print(confusion_matrix(y_test, random_predictions))\n"
   ]
  },
  {
   "cell_type": "code",
   "execution_count": 34,
   "id": "d12de19c-a570-44ff-a743-eeecdef635a8",
   "metadata": {},
   "outputs": [
    {
     "data": {
      "text/plain": [
       "<AxesSubplot:>"
      ]
     },
     "execution_count": 34,
     "metadata": {},
     "output_type": "execute_result"
    },
    {
     "data": {
      "image/png": "[encoded data removed]",
      "text/plain": [
       "<Figure size 720x504 with 2 Axes>"
      ]
     },
     "metadata": {
      "needs_background": "light"
     },
     "output_type": "display_data"
    }
   ],
   "source": [
    "# Imprimimos la gráfica con la matriz de confusión:\n",
    "plt.figure(figsize = (10,7))\n",
    "sn.heatmap(matriz, annot=True)"
   ]
  },
  {
   "cell_type": "markdown",
   "id": "8628fc22-7258-4cf5-ac00-7c923145c26f",
   "metadata": {},
   "source": [
    "podemos obsevar que hay una pequeña mejora en cuanto al resultado del modelo anterior,pero se sigue obteniendo un score alto en cuanto falsos negativos y falsos positivos"
   ]
  },
  {
   "cell_type": "code",
   "execution_count": 35,
   "id": "aa4f992e-4d98-4bab-9677-6331ba0009fb",
   "metadata": {},
   "outputs": [
    {
     "name": "stdout",
     "output_type": "stream",
     "text": [
      "              precision    recall  f1-score   support\n",
      "\n",
      "           0       0.77      0.89      0.82       125\n",
      "           1       0.70      0.49      0.58        67\n",
      "\n",
      "    accuracy                           0.75       192\n",
      "   macro avg       0.73      0.69      0.70       192\n",
      "weighted avg       0.74      0.75      0.74       192\n",
      "\n"
     ]
    }
   ],
   "source": [
    "# Reporte de clasificación:\n",
    "print(classification_report(y_test, random_predictions))"
   ]
  },
  {
   "cell_type": "markdown",
   "id": "8653b22f-0131-41de-b929-aa071f00eb58",
   "metadata": {},
   "source": [
    "Pros y contras\n",
    "La búsqueda aleatoria es computacionalmente más barata. Sin embargo, no garantiza encontrar la mejor puntuación del espacio muestral."
   ]
  },
  {
   "cell_type": "markdown",
   "id": "1b8049f8-4fb4-4e23-93e4-2b45d10ca661",
   "metadata": {},
   "source": [
    "# Búsqueda informada\n",
    "\n",
    "Utiliza las ventajas de la búsqueda tanto en cuadrícula como aleatoria. Sin embargo, tiene sus propias desventajas. A diferencia de la búsqueda en cuadrícula y aleatoria, la búsqueda informada aprende de sus iteraciones anteriores a través del siguiente proceso:\n",
    "\n",
    "1.Búsqueda aleatoria.\n",
    "\n",
    "2.Encuentra áreas con buena puntuación.\n",
    "\n",
    "3.Ejecuta la búsqueda de cuadrícula en un área más pequeña.\n",
    "\n",
    "4.Continúa hasta obtener la solución óptima."
   ]
  },
  {
   "cell_type": "code",
   "execution_count": 36,
   "id": "19ccbf9b-ae8b-4e3e-a83c-3e72539fdefd",
   "metadata": {},
   "outputs": [
    {
     "name": "stdout",
     "output_type": "stream",
     "text": [
      "Collecting tpot\n",
      "  Downloading TPOT-0.11.7-py3-none-any.whl (87 kB)\n",
      "Requirement already satisfied: scipy>=1.3.1 in c:\\users\\rafar\\anaconda3\\lib\\site-packages (from tpot) (1.7.3)\n",
      "Requirement already satisfied: scikit-learn>=0.22.0 in c:\\users\\rafar\\anaconda3\\lib\\site-packages (from tpot) (1.0.2)\n",
      "Collecting deap>=1.2\n",
      "  Downloading deap-1.3.3-cp39-cp39-win_amd64.whl (114 kB)\n",
      "Requirement already satisfied: tqdm>=4.36.1 in c:\\users\\rafar\\anaconda3\\lib\\site-packages (from tpot) (4.64.0)\n",
      "Requirement already satisfied: joblib>=0.13.2 in c:\\users\\rafar\\anaconda3\\lib\\site-packages (from tpot) (1.1.0)\n",
      "Collecting xgboost>=1.1.0\n",
      "  Downloading xgboost-1.7.3-py3-none-win_amd64.whl (89.1 MB)\n",
      "Requirement already satisfied: pandas>=0.24.2 in c:\\users\\rafar\\anaconda3\\lib\\site-packages (from tpot) (1.4.2)\n",
      "Collecting update-checker>=0.16\n",
      "  Downloading update_checker-0.18.0-py3-none-any.whl (7.0 kB)\n",
      "Requirement already satisfied: numpy>=1.16.3 in c:\\users\\rafar\\anaconda3\\lib\\site-packages (from tpot) (1.21.5)\n",
      "Collecting stopit>=1.1.1\n",
      "  Downloading stopit-1.1.2.tar.gz (18 kB)\n",
      "Requirement already satisfied: python-dateutil>=2.8.1 in c:\\users\\rafar\\anaconda3\\lib\\site-packages (from pandas>=0.24.2->tpot) (2.8.2)\n",
      "Requirement already satisfied: pytz>=2020.1 in c:\\users\\rafar\\anaconda3\\lib\\site-packages (from pandas>=0.24.2->tpot) (2021.3)\n",
      "Requirement already satisfied: six>=1.5 in c:\\users\\rafar\\anaconda3\\lib\\site-packages (from python-dateutil>=2.8.1->pandas>=0.24.2->tpot) (1.16.0)\n",
      "Requirement already satisfied: threadpoolctl>=2.0.0 in c:\\users\\rafar\\anaconda3\\lib\\site-packages (from scikit-learn>=0.22.0->tpot) (2.2.0)\n",
      "Requirement already satisfied: colorama in c:\\users\\rafar\\anaconda3\\lib\\site-packages (from tqdm>=4.36.1->tpot) (0.4.4)\n",
      "Requirement already satisfied: requests>=2.3.0 in c:\\users\\rafar\\anaconda3\\lib\\site-packages (from update-checker>=0.16->tpot) (2.27.1)\n",
      "Requirement already satisfied: idna<4,>=2.5 in c:\\users\\rafar\\anaconda3\\lib\\site-packages (from requests>=2.3.0->update-checker>=0.16->tpot) (3.3)\n",
      "Requirement already satisfied: charset-normalizer~=2.0.0 in c:\\users\\rafar\\anaconda3\\lib\\site-packages (from requests>=2.3.0->update-checker>=0.16->tpot) (2.0.4)\n",
      "Requirement already satisfied: urllib3<1.27,>=1.21.1 in c:\\users\\rafar\\anaconda3\\lib\\site-packages (from requests>=2.3.0->update-checker>=0.16->tpot) (1.26.9)\n",
      "Requirement already satisfied: certifi>=2017.4.17 in c:\\users\\rafar\\anaconda3\\lib\\site-packages (from requests>=2.3.0->update-checker>=0.16->tpot) (2021.10.8)\n",
      "Building wheels for collected packages: stopit\n",
      "  Building wheel for stopit (setup.py): started\n",
      "  Building wheel for stopit (setup.py): finished with status 'done'\n",
      "  Created wheel for stopit: filename=stopit-1.1.2-py3-none-any.whl size=11956 sha256=2bf1d7c316d2772d8bfa93e714af750b29de0ad5f55006308ce211b194831cb5\n",
      "  Stored in directory: c:\\users\\rafar\\appdata\\local\\pip\\cache\\wheels\\48\\8c\\93\\3afb1916772591fe6bcc25cdf8b1c5bdc362f0ec8e2f0fd413\n",
      "Successfully built stopit\n",
      "Installing collected packages: xgboost, update-checker, stopit, deap, tpot\n",
      "Successfully installed deap-1.3.3 stopit-1.1.2 tpot-0.11.7 update-checker-0.18.0 xgboost-1.7.3\n"
     ]
    }
   ],
   "source": [
    "!pip install tpot\n",
    "#TPOT selecciona los mejores parametros y modelo. Es auto machine learning"
   ]
  },
  {
   "cell_type": "code",
   "execution_count": 38,
   "id": "9c0da723-f511-41d8-96d7-8478fe07b933",
   "metadata": {},
   "outputs": [
    {
     "data": {
      "application/vnd.jupyter.widget-view+json": {
       "model_id": "",
       "version_major": 2,
       "version_minor": 0
      },
      "text/plain": [
       "Optimization Progress:   0%|          | 0/2100 [00:00<?, ?pipeline/s]"
      ]
     },
     "metadata": {},
     "output_type": "display_data"
    },
    {
     "name": "stdout",
     "output_type": "stream",
     "text": [
      "\n",
      "Generation 1 - Current best internal CV score: 0.7829861111111112\n",
      "\n",
      "Generation 2 - Current best internal CV score: 0.7847222222222223\n",
      "\n",
      "Generation 3 - Current best internal CV score: 0.7847222222222223\n",
      "\n",
      "Generation 4 - Current best internal CV score: 0.7951388888888888\n",
      "\n",
      "Generation 5 - Current best internal CV score: 0.7951388888888888\n",
      "\n",
      "Generation 6 - Current best internal CV score: 0.7951388888888888\n",
      "\n",
      "Generation 7 - Current best internal CV score: 0.7951388888888888\n",
      "\n",
      "Generation 8 - Current best internal CV score: 0.7951388888888888\n",
      "\n",
      "Generation 9 - Current best internal CV score: 0.7951388888888888\n",
      "\n",
      "Generation 10 - Current best internal CV score: 0.7951388888888888\n",
      "\n",
      "Generation 11 - Current best internal CV score: 0.7951388888888888\n",
      "\n",
      "Generation 12 - Current best internal CV score: 0.796875\n",
      "\n",
      "Generation 13 - Current best internal CV score: 0.796875\n",
      "\n",
      "Generation 14 - Current best internal CV score: 0.796875\n",
      "\n",
      "Generation 15 - Current best internal CV score: 0.796875\n",
      "\n",
      "Generation 16 - Current best internal CV score: 0.796875\n",
      "\n",
      "Generation 17 - Current best internal CV score: 0.796875\n",
      "\n",
      "Generation 18 - Current best internal CV score: 0.7986111111111112\n",
      "\n",
      "Generation 19 - Current best internal CV score: 0.7986111111111112\n",
      "\n",
      "Generation 20 - Current best internal CV score: 0.8003472222222222\n",
      "\n",
      "Best pipeline: GradientBoostingClassifier(SelectFwe(XGBClassifier(input_matrix, learning_rate=0.01, max_depth=6, min_child_weight=13, n_estimators=100, n_jobs=1, subsample=0.3, verbosity=0), alpha=0.048), learning_rate=0.01, max_depth=7, max_features=0.7500000000000001, min_samples_leaf=18, min_samples_split=3, n_estimators=100, subsample=0.9500000000000001)\n"
     ]
    }
   ],
   "source": [
    "# Importamos el clasificador TPOT de tpot:\n",
    "from tpot import TPOTClassifier #funcion de clasificador ya que es de tipo clasificador nuestro problema de 2 categorías\n",
    "\n",
    "tpot_clf = TPOTClassifier(\n",
    "    generations = 20,#Número de generaciones para evolucionar los modelos\n",
    "    population_size = 100,#Tamaño de la población de modelos en cada iteración\n",
    "    verbosity = 2,#Nivel de detalle durante el proceso de entrenamiento\n",
    "    offspring_size = 100,#\n",
    "    scoring = 'accuracy',# Métrica para evaluar los modelos\n",
    "    cv = 6 #Número de folds en la validación cruzada\n",
    ")\n",
    "\n",
    "# Entrenamos el clasificador TPOT\n",
    "tpot_clf.fit(X_train, y_train)\n",
    "# Evaluamos el clasificador TPOT con los datos de prueba\n",
    "tpot_pred = tpot_clf.score(X_test, y_test)\n",
    "\n",
    "#nos hace todo el trabajo para encontrar los algoritmos"
   ]
  },
  {
   "cell_type": "code",
   "execution_count": 47,
   "id": "749aabe9-0ce5-4d83-8c6c-880fe5156726",
   "metadata": {},
   "outputs": [
    {
     "data": {
      "text/plain": [
       "0.7239583333333334"
      ]
     },
     "execution_count": 47,
     "metadata": {},
     "output_type": "execute_result"
    }
   ],
   "source": [
    "#score es my bajo\n",
    "tpot_pred"
   ]
  },
  {
   "cell_type": "markdown",
   "id": "3cde9a0c-aa42-43ea-98fe-fe2236f8b4e4",
   "metadata": {},
   "source": [
    "Podemo sobservar que el mejor modelo es GradientBoostingClassifier con sus mejores parametros"
   ]
  },
  {
   "cell_type": "code",
   "execution_count": 64,
   "id": "78f5d229-76c8-45a5-91d2-17875cd32b0d",
   "metadata": {},
   "outputs": [],
   "source": [
    "#guardamos nuestro modelo en un .py para hacer algunas predicciones\n",
    "tpot_clf.export('tpot_ml_pipeline.py')"
   ]
  },
  {
   "cell_type": "code",
   "execution_count": 65,
   "id": "071d7860-01b0-4e20-ac07-3a0e0ef297bd",
   "metadata": {},
   "outputs": [],
   "source": [
    "import numpy as np\n",
    "ex = np.array([2,90,70,35,56,30.3,0.825,29]).reshape(1,-1)"
   ]
  },
  {
   "cell_type": "code",
   "execution_count": 66,
   "id": "312cc2cd-b6be-41ef-b46b-700b1ff4b973",
   "metadata": {},
   "outputs": [
    {
     "data": {
      "text/plain": [
       "array([0], dtype=int64)"
      ]
     },
     "execution_count": 66,
     "metadata": {},
     "output_type": "execute_result"
    }
   ],
   "source": [
    "tpot_clf.predict(ex)"
   ]
  },
  {
   "cell_type": "code",
   "execution_count": 43,
   "id": "4467638e-c639-4e2c-9826-eeae20e1ccd8",
   "metadata": {},
   "outputs": [],
   "source": [
    "#import tpot\n",
    "#METHODS AND ATTRIBUTES\n",
    "#dir(tpot) "
   ]
  },
  {
   "cell_type": "code",
   "execution_count": null,
   "id": "9aa4344b-b25f-474f-bcca-b3aa4e1fa24b",
   "metadata": {},
   "outputs": [],
   "source": []
  }
 ],
 "metadata": {
  "kernelspec": {
   "display_name": "Python 3 (ipykernel)",
   "language": "python",
   "name": "python3"
  },
  "language_info": {
   "codemirror_mode": {
    "name": "ipython",
    "version": 3
   },
   "file_extension": ".py",
   "mimetype": "text/x-python",
   "name": "python",
   "nbconvert_exporter": "python",
   "pygments_lexer": "ipython3",
   "version": "3.9.12"
  },
  "widgets": {
   "application/vnd.jupyter.widget-state+json": {
    "state": {
     "07f90b6314f04ad3bc2ea841ddd4fa3d": {
      "model_module": "@jupyter-widgets/controls",
      "model_module_version": "1.5.0",
      "model_name": "FloatProgressModel",
      "state": {
       "layout": "IPY_MODEL_fdde7366947040ea8cabc29bb846a0b0",
       "max": 2100,
       "style": "IPY_MODEL_60920e7030544ed6aab7b4f693398201",
       "value": 2100
      }
     },
     "0d362125ddbf4c4d857cb0ced4c13b07": {
      "model_module": "@jupyter-widgets/controls",
      "model_module_version": "1.5.0",
      "model_name": "DescriptionStyleModel",
      "state": {
       "description_width": ""
      }
     },
     "18b1f5ee06bb4bc7a2e0b55f8f47ef61": {
      "model_module": "@jupyter-widgets/controls",
      "model_module_version": "1.5.0",
      "model_name": "HTMLModel",
      "state": {
       "layout": "IPY_MODEL_623995670bfd4412af0fdf104662fca0",
       "style": "IPY_MODEL_feab43d8126547eabd1279e1d65b0271",
       "value": "Optimization Progress: "
      }
     },
     "60920e7030544ed6aab7b4f693398201": {
      "model_module": "@jupyter-widgets/controls",
      "model_module_version": "1.5.0",
      "model_name": "ProgressStyleModel",
      "state": {
       "description_width": ""
      }
     },
     "623995670bfd4412af0fdf104662fca0": {
      "model_module": "@jupyter-widgets/base",
      "model_module_version": "1.2.0",
      "model_name": "LayoutModel",
      "state": {}
     },
     "7e05d109254a4674ba3c28276b48a480": {
      "model_module": "@jupyter-widgets/controls",
      "model_module_version": "1.5.0",
      "model_name": "HTMLModel",
      "state": {
       "layout": "IPY_MODEL_aace3ae56490451db02bfb3a1b52a1fd",
       "style": "IPY_MODEL_0d362125ddbf4c4d857cb0ced4c13b07",
       "value": " 2101/? [1:30:12&lt;00:00,  3.16s/pipeline]"
      }
     },
     "a66b9b71688d441782b83157a6e89bf1": {
      "model_module": "@jupyter-widgets/base",
      "model_module_version": "1.2.0",
      "model_name": "LayoutModel",
      "state": {}
     },
     "aace3ae56490451db02bfb3a1b52a1fd": {
      "model_module": "@jupyter-widgets/base",
      "model_module_version": "1.2.0",
      "model_name": "LayoutModel",
      "state": {}
     },
     "fdde7366947040ea8cabc29bb846a0b0": {
      "model_module": "@jupyter-widgets/base",
      "model_module_version": "1.2.0",
      "model_name": "LayoutModel",
      "state": {}
     },
     "feab43d8126547eabd1279e1d65b0271": {
      "model_module": "@jupyter-widgets/controls",
      "model_module_version": "1.5.0",
      "model_name": "DescriptionStyleModel",
      "state": {
       "description_width": ""
      }
     }
    },
    "version_major": 2,
    "version_minor": 0
   }
  }
 },
 "nbformat": 4,
 "nbformat_minor": 5
}
